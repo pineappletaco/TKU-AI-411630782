{
  "nbformat": 4,
  "nbformat_minor": 0,
  "metadata": {
    "colab": {
      "provenance": [],
      "authorship_tag": "ABX9TyNE8DdI7bFE1CCdd4icZDuD",
      "include_colab_link": true
    },
    "kernelspec": {
      "name": "python3",
      "display_name": "Python 3"
    },
    "language_info": {
      "name": "python"
    }
  },
  "cells": [
    {
      "cell_type": "markdown",
      "metadata": {
        "id": "view-in-github",
        "colab_type": "text"
      },
      "source": [
        "<a href=\"https://colab.research.google.com/github/pineappletaco/TKU-AI-411630782/blob/main/0927.ipynb\" target=\"_parent\"><img src=\"https://colab.research.google.com/assets/colab-badge.svg\" alt=\"Open In Colab\"/></a>"
      ]
    },
    {
      "cell_type": "code",
      "execution_count": 2,
      "metadata": {
        "id": "akcVhvegiIs1"
      },
      "outputs": [],
      "source": [
        "import matplotlib.pyplot as plt # 繪圖函式庫"
      ]
    },
    {
      "cell_type": "code",
      "source": [
        "import matplotlib.pyplot as plt # 繪圖函式庫\n",
        "#繪製(黃)色x標記 \n",
        "plt.plot([9,9.2,9.6,7.5,6.7,7], [9.4,9.2, 9.2,9.2,7.1,7.4 ], 'yx' ) \n",
        "plt.plot([9,9.2,9.6,7.5,6.7,7], [9.4,9.2, 9.2,9.2,7.1,7.4 ], 'yx' ) \n",
        "#繪製(綠)色標記 \n",
        "plt.plot([7.2,7.3,7.2,7.3,7.2,7.3,7.3 ], [10.3,10.5,9.2,10.2,9.7, 10.1,10.1 ], 'gx' ) \n",
        "plt.plot([6.5,9.0], [7.8,12.5], 'b--' ) # RESER \n",
        "plt.ylabel('H cm') # = TY XE plt.xlabel('W cm') # EX #繪製圖表 \n",
        "plt.legend(('Orange', 'Lemons'), loc='upper right') \n",
        "plt.show()"
      ],
      "metadata": {
        "colab": {
          "base_uri": "https://localhost:8080/",
          "height": 265
        },
        "id": "2iiZ5kpmiom7",
        "outputId": "90edd354-1dc4-41ea-fbe9-ecdb004b2999"
      },
      "execution_count": 3,
      "outputs": [
        {
          "output_type": "display_data",
          "data": {
            "text/plain": [
              "<Figure size 432x288 with 1 Axes>"
            ],
            "image/png": "[encoded data removed]"
          },
          "metadata": {
            "needs_background": "light"
          }
        }
      ]
    },
    {
      "cell_type": "code",
      "source": [],
      "metadata": {
        "id": "6uq21M1gic46"
      },
      "execution_count": null,
      "outputs": []
    }
  ]
}