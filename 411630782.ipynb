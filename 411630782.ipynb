{
  "nbformat": 4,
  "nbformat_minor": 0,
  "metadata": {
    "colab": {
      "provenance": [],
      "authorship_tag": "ABX9TyOR0+yaq/JBg+12EUS5ECiI",
      "include_colab_link": true
    },
    "kernelspec": {
      "name": "python3",
      "display_name": "Python 3"
    },
    "language_info": {
      "name": "python"
    }
  },
  "cells": [
    {
      "cell_type": "markdown",
      "metadata": {
        "id": "view-in-github",
        "colab_type": "text"
      },
      "source": [
        "<a href=\"https://colab.research.google.com/github/pineappletaco/TKU-AI-411630782/blob/main/411630782.ipynb\" target=\"_parent\"><img src=\"https://colab.research.google.com/assets/colab-badge.svg\" alt=\"Open In Colab\"/></a>"
      ]
    },
    {
      "cell_type": "code",
      "execution_count": 10,
      "metadata": {
        "id": "YUe3ZETyRhVd"
      },
      "outputs": [],
      "source": [
        "h=1 ; g=2;i=3\n"
      ]
    },
    {
      "cell_type": "code",
      "source": [
        "h"
      ],
      "metadata": {
        "id": "Whf7OS-rW1e-",
        "colab": {
          "base_uri": "https://localhost:8080/"
        },
        "outputId": "79da0e6d-94a4-456e-cab2-487970fb6b1d"
      },
      "execution_count": 11,
      "outputs": [
        {
          "output_type": "execute_result",
          "data": {
            "text/plain": [
              "1"
            ]
          },
          "metadata": {},
          "execution_count": 11
        }
      ]
    },
    {
      "cell_type": "code",
      "source": [
        "print(\"Today is 9/20\")"
      ],
      "metadata": {
        "id": "H_z839xYW8oy",
        "colab": {
          "base_uri": "https://localhost:8080/"
        },
        "outputId": "f6bf499f-7a10-4b9a-d6cd-5e8ae0f656d8"
      },
      "execution_count": 12,
      "outputs": [
        {
          "output_type": "stream",
          "name": "stdout",
          "text": [
            "Today is 9/20\n"
          ]
        }
      ]
    },
    {
      "cell_type": "code",
      "source": [
        "Name_str = \"powen\""
      ],
      "metadata": {
        "id": "kVRAaCpAmAV2"
      },
      "execution_count": 13,
      "outputs": []
    },
    {
      "cell_type": "code",
      "source": [
        "print(Name_str)"
      ],
      "metadata": {
        "colab": {
          "base_uri": "https://localhost:8080/"
        },
        "id": "GYRX4pCBmLww",
        "outputId": "a6a68e75-9742-4b9c-d999-59fcc744f4e7"
      },
      "execution_count": 14,
      "outputs": [
        {
          "output_type": "stream",
          "name": "stdout",
          "text": [
            "powen\n"
          ]
        }
      ]
    },
    {
      "cell_type": "code",
      "source": [
        "Name_str2 = 'powen'"
      ],
      "metadata": {
        "id": "VetQk4wrmehu"
      },
      "execution_count": 15,
      "outputs": []
    },
    {
      "cell_type": "code",
      "source": [
        "print(Name_str2)"
      ],
      "metadata": {
        "colab": {
          "base_uri": "https://localhost:8080/"
        },
        "id": "imIrQT7Dmm9o",
        "outputId": "4056ee5e-569a-4ac1-dea0-dbcfcb0b7631"
      },
      "execution_count": 16,
      "outputs": [
        {
          "output_type": "stream",
          "name": "stdout",
          "text": [
            "powen\n"
          ]
        }
      ]
    },
    {
      "cell_type": "code",
      "source": [
        "Name_str2\n"
      ],
      "metadata": {
        "colab": {
          "base_uri": "https://localhost:8080/",
          "height": 35
        },
        "id": "9mQ83oeEmw80",
        "outputId": "10ded1b5-f926-4714-dcd7-3bbde56b3ba3"
      },
      "execution_count": 17,
      "outputs": [
        {
          "output_type": "execute_result",
          "data": {
            "text/plain": [
              "'powen'"
            ],
            "application/vnd.google.colaboratory.intrinsic+json": {
              "type": "string"
            }
          },
          "metadata": {},
          "execution_count": 17
        }
      ]
    },
    {
      "cell_type": "code",
      "source": [
        "print(type(56))"
      ],
      "metadata": {
        "colab": {
          "base_uri": "https://localhost:8080/"
        },
        "id": "jGU3-9ZzmzEM",
        "outputId": "776a2c06-6fda-4711-8f15-1dba5c343af3"
      },
      "execution_count": 18,
      "outputs": [
        {
          "output_type": "stream",
          "name": "stdout",
          "text": [
            "<class 'int'>\n"
          ]
        }
      ]
    },
    {
      "cell_type": "code",
      "source": [
        "print(type(56.0))"
      ],
      "metadata": {
        "colab": {
          "base_uri": "https://localhost:8080/"
        },
        "id": "z4R77a7ln8Al",
        "outputId": "37012838-f9e4-49ec-c182-585adec8d611"
      },
      "execution_count": 19,
      "outputs": [
        {
          "output_type": "stream",
          "name": "stdout",
          "text": [
            "<class 'float'>\n"
          ]
        }
      ]
    },
    {
      "cell_type": "code",
      "source": [
        "print(type(\"I am str\"))\n"
      ],
      "metadata": {
        "colab": {
          "base_uri": "https://localhost:8080/"
        },
        "id": "RQbruYjToAwu",
        "outputId": "441d8e12-fd1a-4607-8394-797512581a2f"
      },
      "execution_count": 20,
      "outputs": [
        {
          "output_type": "stream",
          "name": "stdout",
          "text": [
            "<class 'str'>\n"
          ]
        }
      ]
    },
    {
      "cell_type": "code",
      "source": [
        "print(type(True))"
      ],
      "metadata": {
        "colab": {
          "base_uri": "https://localhost:8080/"
        },
        "id": "jPeWG-xYoMzI",
        "outputId": "cdc80110-4f02-44be-963d-2bd02c5147df"
      },
      "execution_count": 21,
      "outputs": [
        {
          "output_type": "stream",
          "name": "stdout",
          "text": [
            "<class 'bool'>\n"
          ]
        }
      ]
    },
    {
      "cell_type": "code",
      "source": [
        "num1 =1"
      ],
      "metadata": {
        "id": "5BXK74VcpKSo"
      },
      "execution_count": 22,
      "outputs": []
    },
    {
      "cell_type": "code",
      "source": [
        "num1+1.1"
      ],
      "metadata": {
        "colab": {
          "base_uri": "https://localhost:8080/"
        },
        "id": "BZG4h9MfpOjx",
        "outputId": "2fde5865-8176-46cc-8ba6-726e3c293503"
      },
      "execution_count": 23,
      "outputs": [
        {
          "output_type": "execute_result",
          "data": {
            "text/plain": [
              "2.1"
            ]
          },
          "metadata": {},
          "execution_count": 23
        }
      ]
    },
    {
      "cell_type": "code",
      "source": [
        "print(type(num1))"
      ],
      "metadata": {
        "colab": {
          "base_uri": "https://localhost:8080/"
        },
        "id": "FyaTe3YNpS9C",
        "outputId": "0a42e189-0838-47b3-b3c0-0693c988d443"
      },
      "execution_count": 24,
      "outputs": [
        {
          "output_type": "stream",
          "name": "stdout",
          "text": [
            "<class 'int'>\n"
          ]
        }
      ]
    },
    {
      "cell_type": "code",
      "source": [
        "num2=2.1"
      ],
      "metadata": {
        "id": "Oy6oFHy9pdoi"
      },
      "execution_count": 25,
      "outputs": []
    },
    {
      "cell_type": "code",
      "source": [
        "print(type(num2))"
      ],
      "metadata": {
        "colab": {
          "base_uri": "https://localhost:8080/"
        },
        "id": "aDyE49fBpgvd",
        "outputId": "467c172e-ba52-41c3-ee44-3bb12aef3d36"
      },
      "execution_count": 26,
      "outputs": [
        {
          "output_type": "stream",
          "name": "stdout",
          "text": [
            "<class 'float'>\n"
          ]
        }
      ]
    },
    {
      "cell_type": "code",
      "source": [
        "num3=1+1.1"
      ],
      "metadata": {
        "id": "rXPFkNDvplqt"
      },
      "execution_count": 7,
      "outputs": []
    },
    {
      "cell_type": "code",
      "source": [
        "num3\n"
      ],
      "metadata": {
        "colab": {
          "base_uri": "https://localhost:8080/"
        },
        "id": "bpbz3ANxppNu",
        "outputId": "b94a8005-515e-44f1-8479-57dc89c5143b"
      },
      "execution_count": 8,
      "outputs": [
        {
          "output_type": "execute_result",
          "data": {
            "text/plain": [
              "2.1"
            ]
          },
          "metadata": {},
          "execution_count": 8
        }
      ]
    },
    {
      "cell_type": "code",
      "source": [
        "print(type(num3))"
      ],
      "metadata": {
        "colab": {
          "base_uri": "https://localhost:8080/"
        },
        "id": "nnWmtt_gpssS",
        "outputId": "28f046a7-56a4-44b1-9dce-0930a76f1835"
      },
      "execution_count": 9,
      "outputs": [
        {
          "output_type": "stream",
          "name": "stdout",
          "text": [
            "<class 'float'>\n"
          ]
        }
      ]
    },
    {
      "cell_type": "code",
      "source": [
        "print(\"hey\",\"hi\",\"hello\",sep=\"_\")"
      ],
      "metadata": {
        "colab": {
          "base_uri": "https://localhost:8080/"
        },
        "id": "i_8j81IDpxuQ",
        "outputId": "d62eaf22-4ff3-49c9-90a0-95b6487c615c"
      },
      "execution_count": 1,
      "outputs": [
        {
          "output_type": "stream",
          "name": "stdout",
          "text": [
            "hey_hi_hello\n"
          ]
        }
      ]
    },
    {
      "cell_type": "code",
      "source": [
        "print(\"hey\",\"hi\",\"hello\",sep=\"\\t\")"
      ],
      "metadata": {
        "id": "CegEZXdpqDh9",
        "colab": {
          "base_uri": "https://localhost:8080/"
        },
        "outputId": "dbbae57e-8f4d-4634-a3e1-21708f940df7"
      },
      "execution_count": 2,
      "outputs": [
        {
          "output_type": "stream",
          "name": "stdout",
          "text": [
            "hey\thi\thello\n"
          ]
        }
      ]
    },
    {
      "cell_type": "code",
      "source": [
        "print(\"hey\",\"hi\",\"hello\",sep=\"\\n\")"
      ],
      "metadata": {
        "colab": {
          "base_uri": "https://localhost:8080/"
        },
        "id": "Yq69DJIF2S5S",
        "outputId": "cdaef0c4-287f-4a36-af7d-2ac0760928fb"
      },
      "execution_count": 27,
      "outputs": [
        {
          "output_type": "stream",
          "name": "stdout",
          "text": [
            "hey\n",
            "hi\n",
            "hello\n"
          ]
        }
      ]
    },
    {
      "cell_type": "code",
      "source": [
        "a=1;b=2;c=3"
      ],
      "metadata": {
        "id": "9CGKUNue2V8N"
      },
      "execution_count": 28,
      "outputs": []
    },
    {
      "cell_type": "code",
      "source": [
        "print(a,b,c)"
      ],
      "metadata": {
        "colab": {
          "base_uri": "https://localhost:8080/"
        },
        "id": "fTu8HwKa2cTK",
        "outputId": "3f91b2ba-2e4c-487e-e32e-548ed7e8b917"
      },
      "execution_count": 29,
      "outputs": [
        {
          "output_type": "stream",
          "name": "stdout",
          "text": [
            "1 2 3\n"
          ]
        }
      ]
    },
    {
      "cell_type": "code",
      "source": [
        "print([a,b,c])\n",
        "print(a,[b,c])"
      ],
      "metadata": {
        "colab": {
          "base_uri": "https://localhost:8080/"
        },
        "id": "ajSOfSvY2f-_",
        "outputId": "4453a291-491a-4f07-d045-d5821ded27e3"
      },
      "execution_count": 30,
      "outputs": [
        {
          "output_type": "stream",
          "name": "stdout",
          "text": [
            "[1, 2, 3]\n",
            "1 [2, 3]\n"
          ]
        }
      ]
    },
    {
      "cell_type": "code",
      "source": [
        "print(\"morning\")\n",
        "print(\"hi\")\n",
        "print(\"wakeup\")"
      ],
      "metadata": {
        "colab": {
          "base_uri": "https://localhost:8080/"
        },
        "id": "JIP9qw832tmi",
        "outputId": "5b23f8fc-27de-46a0-f537-ef1bb10c2064"
      },
      "execution_count": 31,
      "outputs": [
        {
          "output_type": "stream",
          "name": "stdout",
          "text": [
            "morning\n",
            "hi\n",
            "wakeup\n"
          ]
        }
      ]
    },
    {
      "cell_type": "code",
      "source": [
        "print(\"morning\",\"hi\",\"wakeup\",sep=\"\\n\")\n"
      ],
      "metadata": {
        "colab": {
          "base_uri": "https://localhost:8080/"
        },
        "id": "oWyWhDCx257I",
        "outputId": "2e399b10-e801-4132-f295-919547e36be7"
      },
      "execution_count": 33,
      "outputs": [
        {
          "output_type": "stream",
          "name": "stdout",
          "text": [
            "morning\n",
            "hi\n",
            "wakeup\n"
          ]
        }
      ]
    },
    {
      "cell_type": "code",
      "source": [
        "print(123)\n",
        "print(456)"
      ],
      "metadata": {
        "colab": {
          "base_uri": "https://localhost:8080/"
        },
        "id": "dyeqJE_m3SB3",
        "outputId": "777fda6d-a361-4dfe-da5f-88ef2f617349"
      },
      "execution_count": 34,
      "outputs": [
        {
          "output_type": "stream",
          "name": "stdout",
          "text": [
            "123\n",
            "456\n"
          ]
        }
      ]
    },
    {
      "cell_type": "code",
      "source": [
        "print(123,end=\"\")\n",
        "print(456)"
      ],
      "metadata": {
        "colab": {
          "base_uri": "https://localhost:8080/"
        },
        "id": "dn7mBkvg3aVE",
        "outputId": "ef9eaefc-451e-45d3-f367-603cc950ff1b"
      },
      "execution_count": 35,
      "outputs": [
        {
          "output_type": "stream",
          "name": "stdout",
          "text": [
            "123456\n"
          ]
        }
      ]
    },
    {
      "cell_type": "code",
      "source": [
        "print(\"午安\",\"同學好\",\"打起精神來!!!\",sep=\"_\")\n"
      ],
      "metadata": {
        "colab": {
          "base_uri": "https://localhost:8080/"
        },
        "id": "qurl-0303pCN",
        "outputId": "1db8e3f5-ebe4-4b52-f018-59af34f52b07"
      },
      "execution_count": 36,
      "outputs": [
        {
          "output_type": "stream",
          "name": "stdout",
          "text": [
            "午安_同學好_打起精神來!!!\n"
          ]
        }
      ]
    },
    {
      "cell_type": "code",
      "source": [
        "print(\"下午好\",\"平安順心\",\"健康如意\",sep=\",\")"
      ],
      "metadata": {
        "colab": {
          "base_uri": "https://localhost:8080/"
        },
        "id": "k4CofQN23-yX",
        "outputId": "0e9f8e88-da6c-4dc9-9300-0bb8e8354699"
      },
      "execution_count": 37,
      "outputs": [
        {
          "output_type": "stream",
          "name": "stdout",
          "text": [
            "下午好,平安順心,健康如意\n"
          ]
        }
      ]
    },
    {
      "cell_type": "code",
      "source": [
        "test1= input(\"input here\")"
      ],
      "metadata": {
        "colab": {
          "base_uri": "https://localhost:8080/"
        },
        "id": "iTmLrZZz4NNJ",
        "outputId": "067748da-7145-4f24-aeb3-619c1023440b"
      },
      "execution_count": 38,
      "outputs": [
        {
          "name": "stdout",
          "output_type": "stream",
          "text": [
            "input here123\n"
          ]
        }
      ]
    },
    {
      "cell_type": "code",
      "source": [
        "test1= int(input(\"input here\"))"
      ],
      "metadata": {
        "colab": {
          "base_uri": "https://localhost:8080/"
        },
        "id": "wGWlVcuH4hD7",
        "outputId": "e9738ee9-bb7c-47f6-ca97-6814349e3020"
      },
      "execution_count": 39,
      "outputs": [
        {
          "name": "stdout",
          "output_type": "stream",
          "text": [
            "input here123\n"
          ]
        }
      ]
    },
    {
      "cell_type": "code",
      "source": [
        "test1\n"
      ],
      "metadata": {
        "colab": {
          "base_uri": "https://localhost:8080/"
        },
        "id": "U4OZAm-j4plV",
        "outputId": "a902aa3a-4ea7-4cf8-cdbe-841036107614"
      },
      "execution_count": 40,
      "outputs": [
        {
          "output_type": "execute_result",
          "data": {
            "text/plain": [
              "123"
            ]
          },
          "metadata": {},
          "execution_count": 40
        }
      ]
    },
    {
      "cell_type": "code",
      "source": [],
      "metadata": {
        "id": "ero4FOnm5Qaw"
      },
      "execution_count": null,
      "outputs": []
    },
    {
      "cell_type": "code",
      "source": [
        "print(type(test1))"
      ],
      "metadata": {
        "colab": {
          "base_uri": "https://localhost:8080/"
        },
        "id": "giuy9nPB5Qfl",
        "outputId": "e2c7670c-17fa-4748-a768-e86fbb48a7e3"
      },
      "execution_count": 41,
      "outputs": [
        {
          "output_type": "stream",
          "name": "stdout",
          "text": [
            "<class 'int'>\n"
          ]
        }
      ]
    },
    {
      "cell_type": "code",
      "source": [
        "Score1 = int(input(\"輸入國文成績\"))\n",
        "Score2 = int(input(\"輸入英文成績\"))\n",
        "Score3 = int(input(\"輸入數學成績\"))\n",
        "print(f\"total;\\n{Score1+Score2+Score3}\")"
      ],
      "metadata": {
        "colab": {
          "base_uri": "https://localhost:8080/"
        },
        "id": "DnZRsm8e5YUd",
        "outputId": "b12c043a-33b8-4f36-8131-f9fe22d22516"
      },
      "execution_count": 43,
      "outputs": [
        {
          "output_type": "stream",
          "name": "stdout",
          "text": [
            "輸入國文成績50\n",
            "輸入英文成績60\n",
            "輸入數學成績70\n",
            "total;\n",
            "180\n"
          ]
        }
      ]
    },
    {
      "cell_type": "code",
      "source": [
        "UP = int(input(\"上底\"))\n",
        "DOWN = int(input(\"下底\"))\n",
        "HEIGHT = int(input(\"高\"))\n",
        "AREA=(UP+DOWN)*HEIGHT/2\n",
        "print(f\"UP:{UP} DOWN:{DOWN} HEIGHT:{HEIGHT} AREA:{AREA}\")"
      ],
      "metadata": {
        "colab": {
          "base_uri": "https://localhost:8080/"
        },
        "id": "nY6l_qFw6KNM",
        "outputId": "8824ee2c-1710-4fd8-aae3-8a44a4a307df"
      },
      "execution_count": 44,
      "outputs": [
        {
          "output_type": "stream",
          "name": "stdout",
          "text": [
            "上底3\n",
            "下底4\n",
            "高5\n",
            "UP:3 DOWN:4 HEIGHT:5 AREA:17.5\n"
          ]
        }
      ]
    }
  ]
}